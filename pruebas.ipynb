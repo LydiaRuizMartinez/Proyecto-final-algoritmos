{
 "cells": [
  {
   "cell_type": "code",
   "execution_count": 1,
   "metadata": {},
   "outputs": [],
   "source": [
    "from leer_datos import leer_fichero\n",
    "vuelos = leer_fichero(\"Cleaned_2018_Flights.csv\")\n",
    "# import pickle\n",
    "# with open(\"vuelos.obj\", \"rb\") as fh:\n",
    "#     vuelos = pickle.load(fh)"
   ]
  },
  {
   "cell_type": "code",
   "execution_count": 2,
   "metadata": {},
   "outputs": [
    {
     "name": "stdout",
     "output_type": "stream",
     "text": [
      "1000\n"
     ]
    }
   ],
   "source": [
    "print(len(vuelos))"
   ]
  },
  {
   "cell_type": "code",
   "execution_count": 3,
   "metadata": {},
   "outputs": [],
   "source": [
    "from Arbol import Arbol\n",
    "arbol = Arbol([\"origen\", \"destino\",\"trimestre\", \"compania\"])\n",
    "for vuelo in vuelos:\n",
    "    nodo_final = arbol.insertar_vuelo(vuelo)\n",
    "    \n",
    "# print(len(nodo_final.vuelos))\n",
    "# nodo_final.vuelos"
   ]
  },
  {
   "cell_type": "code",
   "execution_count": 4,
   "metadata": {},
   "outputs": [],
   "source": [
    "# from Vuelo import Vuelo\n",
    "# arbol.insertar_vuelo(Vuelo(\"OJIDS\", \"aosdijf\", 234.324, \"OIF\", 32, 1))\n"
   ]
  },
  {
   "cell_type": "code",
   "execution_count": 5,
   "metadata": {},
   "outputs": [
    {
     "name": "stdout",
     "output_type": "stream",
     "text": [
      "->PHL->LAX->1->AA\n",
      "->PHL->LGA->1->AA\n",
      "->PHL->BOS->1->AA\n",
      "->PHL->RDU->1->AA\n",
      "->PHL->MCI->1->AA\n",
      "->LAX->ORD->1->AA\n",
      "->LAX->PHL->1->AA\n",
      "->SAN->JFK->1->AA\n",
      "->SFO->PHL->1->AA\n",
      "->SFO->JFK->1->AA\n",
      "->AUS->PHL->1->AA\n",
      "->BOS->PHL->1->AA\n",
      "->MIA->PHL->1->AA\n",
      "->ORD->PHL->1->AA\n",
      "->LGA->PHL->1->AA\n",
      "->CLT->TPA->1->AA\n",
      "->TPA->PHL->1->AA\n",
      "->DFW->PHL->1->AA\n",
      "->LAS->PHL->1->AA\n",
      "->MCI->PHL->1->AA\n"
     ]
    }
   ],
   "source": [
    "arbol.mostrar()"
   ]
  },
  {
   "cell_type": "code",
   "execution_count": 7,
   "metadata": {},
   "outputs": [
    {
     "data": {
      "text/plain": [
       "414"
      ]
     },
     "execution_count": 7,
     "metadata": {},
     "output_type": "execute_result"
    }
   ],
   "source": [
    "len(arbol.buscar([\"PHL\",\"LAX\",1,\"AA\"]))"
   ]
  },
  {
   "cell_type": "code",
   "execution_count": null,
   "metadata": {},
   "outputs": [],
   "source": []
  }
 ],
 "metadata": {
  "kernelspec": {
   "display_name": "base",
   "language": "python",
   "name": "python3"
  },
  "language_info": {
   "codemirror_mode": {
    "name": "ipython",
    "version": 3
   },
   "file_extension": ".py",
   "mimetype": "text/x-python",
   "name": "python",
   "nbconvert_exporter": "python",
   "pygments_lexer": "ipython3",
   "version": "3.10.8"
  },
  "orig_nbformat": 4
 },
 "nbformat": 4,
 "nbformat_minor": 2
}
