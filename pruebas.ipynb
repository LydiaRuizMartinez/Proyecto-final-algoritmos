{
 "cells": [
  {
   "cell_type": "code",
   "execution_count": 1,
   "metadata": {},
   "outputs": [
    {
     "name": "stdout",
     "output_type": "stream",
     "text": [
      "['', 'ItinID', 'MktID', 'MktCoupons', 'Quarter', 'Origin', 'OriginWac', 'Dest', 'DestWac', 'Miles', 'ContiguousUSA', 'NumTicketsOrdered', 'AirlineCompany', 'PricePerTicket\\n']\n",
      "14\n",
      "['0', '20181767585', '2018176758501', '1', '1', 'PHL', '23', 'LAX', '91', '2402.0', '2', '1.0', 'AA', '672.87\\n']\n",
      "14\n",
      "['1', '20181767586', '2018176758601', '1', '1', 'PHL', '23', 'LAX', '91', '2402.0', '2', '1.0', 'AA', '367.68\\n']\n",
      "14\n",
      "['2', '20181767587', '2018176758701', '1', '1', 'PHL', '23', 'LAX', '91', '2402.0', '2', '1.0', 'AA', '417.94\\n']\n",
      "14\n",
      "['3', '20181767636', '2018176763601', '1', '1', 'PHL', '23', 'LAX', '91', '2402.0', '2', '1.0', 'AA', '247.1\\n']\n",
      "14\n",
      "['4', '20181767637', '2018176763701', '1', '1', 'PHL', '23', 'LAX', '91', '2402.0', '2', '1.0', 'AA', '276.35\\n']\n",
      "14\n",
      "['5', '20181767637', '2018176763702', '1', '1', 'LAX', '91', 'ORD', '41', '1744.0', '2', '1.0', 'AA', '200.65\\n']\n",
      "14\n",
      "['6', '20181767638', '2018176763801', '1', '1', 'PHL', '23', 'LAX', '91', '2402.0', '2', '1.0', 'AA', '560.96\\n']\n",
      "14\n",
      "['7', '20181767639', '2018176763901', '1', '1', 'PHL', '23', 'LAX', '91', '2402.0', '2', '1.0', 'AA', '326.98\\n']\n",
      "14\n",
      "['8', '20181767640', '2018176764001', '1', '1', 'PHL', '23', 'LAX', '91', '2402.0', '2', '1.0', 'AA', '389.9\\n']\n",
      "14\n",
      "['9', '20181767641', '2018176764101', '1', '1', 'PHL', '23', 'LAX', '91', '2402.0', '2', '1.0', 'AA', '444.06\\n']\n",
      "14\n",
      "['', 'ItinID', 'MktID', 'MktCoupons', 'Quarter', 'Origin', 'OriginWac', 'Dest', 'DestWac', 'Miles', 'ContiguousUSA', 'NumTicketsOrdered', 'AirlineCompany', 'PricePerTicket\\n']\n",
      "14\n",
      "['0', '20181767585', '2018176758501', '1', '1', 'PHL', '23', 'LAX', '91', '2402.0', '2', '1.0', 'AA', '672.87\\n']\n",
      "14\n",
      "['1', '20181767586', '2018176758601', '1', '1', 'PHL', '23', 'LAX', '91', '2402.0', '2', '1.0', 'AA', '367.68\\n']\n",
      "14\n",
      "['2', '20181767587', '2018176758701', '1', '1', 'PHL', '23', 'LAX', '91', '2402.0', '2', '1.0', 'AA', '417.94\\n']\n",
      "14\n",
      "['3', '20181767636', '2018176763601', '1', '1', 'PHL', '23', 'LAX', '91', '2402.0', '2', '1.0', 'AA', '247.1\\n']\n",
      "14\n",
      "['4', '20181767637', '2018176763701', '1', '1', 'PHL', '23', 'LAX', '91', '2402.0', '2', '1.0', 'AA', '276.35\\n']\n",
      "14\n",
      "['5', '20181767637', '2018176763702', '1', '1', 'LAX', '91', 'ORD', '41', '1744.0', '2', '1.0', 'AA', '200.65\\n']\n",
      "14\n",
      "['6', '20181767638', '2018176763801', '1', '1', 'PHL', '23', 'LAX', '91', '2402.0', '2', '1.0', 'AA', '560.96\\n']\n",
      "14\n",
      "['7', '20181767639', '2018176763901', '1', '1', 'PHL', '23', 'LAX', '91', '2402.0', '2', '1.0', 'AA', '326.98\\n']\n",
      "14\n",
      "['8', '20181767640', '2018176764001', '1', '1', 'PHL', '23', 'LAX', '91', '2402.0', '2', '1.0', 'AA', '389.9\\n']\n",
      "14\n",
      "['9', '20181767641', '2018176764101', '1', '1', 'PHL', '23', 'LAX', '91', '2402.0', '2', '1.0', 'AA', '444.06\\n']\n",
      "14\n"
     ]
    }
   ],
   "source": [
    "from leer_datos import leer_fichero\n",
    "vuelos = leer_fichero(\"Cleaned_2018_Flights.csv\")\n"
   ]
  },
  {
   "cell_type": "code",
   "execution_count": 2,
   "metadata": {},
   "outputs": [
    {
     "data": {
      "text/plain": [
       "[Vuelo(origen = PHL, destino = LAX, compañía = AA, precio = 672.87, km = 3865.63468),\n",
       " Vuelo(origen = PHL, destino = LAX, compañía = AA, precio = 367.68, km = 3865.63468),\n",
       " Vuelo(origen = PHL, destino = LAX, compañía = AA, precio = 417.94, km = 3865.63468),\n",
       " Vuelo(origen = PHL, destino = LAX, compañía = AA, precio = 247.1, km = 3865.63468),\n",
       " Vuelo(origen = PHL, destino = LAX, compañía = AA, precio = 276.35, km = 3865.63468),\n",
       " Vuelo(origen = LAX, destino = ORD, compañía = AA, precio = 200.65, km = 2806.68896),\n",
       " Vuelo(origen = PHL, destino = LAX, compañía = AA, precio = 560.96, km = 3865.63468),\n",
       " Vuelo(origen = PHL, destino = LAX, compañía = AA, precio = 326.98, km = 3865.63468),\n",
       " Vuelo(origen = PHL, destino = LAX, compañía = AA, precio = 389.9, km = 3865.63468),\n",
       " Vuelo(origen = PHL, destino = LAX, compañía = AA, precio = 444.06, km = 3865.63468)]"
      ]
     },
     "execution_count": 2,
     "metadata": {},
     "output_type": "execute_result"
    }
   ],
   "source": [
    "vuelos"
   ]
  },
  {
   "cell_type": "code",
   "execution_count": 3,
   "metadata": {},
   "outputs": [
    {
     "name": "stdout",
     "output_type": "stream",
     "text": [
      "EL atributo PHL no está en el diccionario {} de origen\n",
      "DESPUES -> {'PHL': destino}\n",
      "EL atributo LAX no está en el diccionario {} de destino\n",
      "DESPUES -> {'LAX': compania}\n",
      "EL atributo AA no está en el diccionario {} de compania\n",
      "DESPUES -> {'AA': None}\n",
      "None [Vuelo(origen = PHL, destino = LAX, compañía = AA, precio = 672.87, km = 3865.63468)]\n",
      "EL atributo LAX no está en el diccionario {'PHL': destino} de origen\n",
      "DESPUES -> {'PHL': destino, 'LAX': destino}\n",
      "EL atributo ORD no está en el diccionario {} de destino\n",
      "DESPUES -> {'ORD': compania}\n",
      "EL atributo AA no está en el diccionario {} de compania\n",
      "DESPUES -> {'AA': None}\n",
      "None [Vuelo(origen = LAX, destino = ORD, compañía = AA, precio = 200.65, km = 2806.68896)]\n",
      "9\n"
     ]
    },
    {
     "data": {
      "text/plain": [
       "[Vuelo(origen = PHL, destino = LAX, compañía = AA, precio = 672.87, km = 3865.63468),\n",
       " Vuelo(origen = PHL, destino = LAX, compañía = AA, precio = 367.68, km = 3865.63468),\n",
       " Vuelo(origen = PHL, destino = LAX, compañía = AA, precio = 417.94, km = 3865.63468),\n",
       " Vuelo(origen = PHL, destino = LAX, compañía = AA, precio = 247.1, km = 3865.63468),\n",
       " Vuelo(origen = PHL, destino = LAX, compañía = AA, precio = 276.35, km = 3865.63468),\n",
       " Vuelo(origen = PHL, destino = LAX, compañía = AA, precio = 560.96, km = 3865.63468),\n",
       " Vuelo(origen = PHL, destino = LAX, compañía = AA, precio = 326.98, km = 3865.63468),\n",
       " Vuelo(origen = PHL, destino = LAX, compañía = AA, precio = 389.9, km = 3865.63468),\n",
       " Vuelo(origen = PHL, destino = LAX, compañía = AA, precio = 444.06, km = 3865.63468)]"
      ]
     },
     "execution_count": 3,
     "metadata": {},
     "output_type": "execute_result"
    }
   ],
   "source": [
    "from Arbol import Arbol\n",
    "arbol = Arbol([\"origen\", \"destino\", \"compania\"])\n",
    "for i in range(10):\n",
    "    nodo_final = arbol.insertar_vuelo(vuelos[i])\n",
    "    \n",
    "print(len(nodo_final.vuelos))\n",
    "nodo_final.vuelos"
   ]
  },
  {
   "cell_type": "code",
   "execution_count": null,
   "metadata": {},
   "outputs": [],
   "source": []
  }
 ],
 "metadata": {
  "kernelspec": {
   "display_name": "base",
   "language": "python",
   "name": "python3"
  },
  "language_info": {
   "codemirror_mode": {
    "name": "ipython",
    "version": 3
   },
   "file_extension": ".py",
   "mimetype": "text/x-python",
   "name": "python",
   "nbconvert_exporter": "python",
   "pygments_lexer": "ipython3",
   "version": "3.10.8"
  },
  "orig_nbformat": 4
 },
 "nbformat": 4,
 "nbformat_minor": 2
}
