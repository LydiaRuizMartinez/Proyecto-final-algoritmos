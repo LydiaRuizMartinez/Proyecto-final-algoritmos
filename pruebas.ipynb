{
 "cells": [
  {
   "cell_type": "code",
   "execution_count": 1,
   "metadata": {},
   "outputs": [
    {
     "data": {
      "text/plain": [
       "<Arbol.Arbol at 0x223d8559360>"
      ]
     },
     "execution_count": 1,
     "metadata": {},
     "output_type": "execute_result"
    }
   ],
   "source": [
    "from Arbol import Arbol\n",
    "from leer_datos import leer_datos\n",
    "arbol = Arbol([\"origen\", \"destino\",\"trimestre\", \"compania\"])\n",
    "leer_datos(\"Cleaned_2018_Flights.csv\", arbol)"
   ]
  },
  {
   "cell_type": "code",
   "execution_count": 2,
   "metadata": {},
   "outputs": [
    {
     "name": "stdout",
     "output_type": "stream",
     "text": [
      "->PHL->LAX->1->AA: 414 vuelos\n",
      "->PHL->LGA->1->AA: 14 vuelos\n",
      "->PHL->BOS->1->AA: 5 vuelos\n",
      "->PHL->RDU->1->AA: 1 vuelos\n",
      "->PHL->MCI->1->AA: 145 vuelos\n",
      "->LAX->ORD->1->AA: 1 vuelos\n",
      "->LAX->PHL->1->AA: 324 vuelos\n",
      "->SAN->JFK->1->AA: 1 vuelos\n",
      "->SFO->PHL->1->AA: 29 vuelos\n",
      "->SFO->JFK->1->AA: 2 vuelos\n",
      "->AUS->PHL->1->AA: 1 vuelos\n",
      "->BOS->PHL->1->AA: 3 vuelos\n",
      "->MIA->PHL->1->AA: 1 vuelos\n",
      "->ORD->PHL->1->AA: 2 vuelos\n",
      "->LGA->PHL->1->AA: 2 vuelos\n",
      "->CLT->TPA->1->AA: 1 vuelos\n",
      "->TPA->PHL->1->AA: 1 vuelos\n",
      "->DFW->PHL->1->AA: 2 vuelos\n",
      "->LAS->PHL->1->AA: 1 vuelos\n",
      "->MCI->PHL->1->AA: 50 vuelos\n"
     ]
    }
   ],
   "source": [
    "arbol.mostrar()"
   ]
  },
  {
   "cell_type": "code",
   "execution_count": 3,
   "metadata": {},
   "outputs": [
    {
     "data": {
      "text/plain": [
       "414"
      ]
     },
     "execution_count": 3,
     "metadata": {},
     "output_type": "execute_result"
    }
   ],
   "source": [
    "len(arbol.buscar([\"PHL\",\"LAX\",1,\"AA\"]))"
   ]
  },
  {
   "cell_type": "code",
   "execution_count": 5,
   "metadata": {},
   "outputs": [
    {
     "data": {
      "text/plain": [
       "[Vuelo(origen = SFO, destino = JFK, trimestre = 1, compañía = AA, precio = 214.64, km = 4163.46),\n",
       " Vuelo(origen = SFO, destino = JFK, trimestre = 1, compañía = AA, precio = 218.05, km = 4163.46)]"
      ]
     },
     "execution_count": 5,
     "metadata": {},
     "output_type": "execute_result"
    }
   ],
   "source": [
    "from quicksort import quickSort\n",
    "quickSort(arbol.buscar([\"SFO\",\"JFK\",1,\"AA\"]))\n"
   ]
  },
  {
   "cell_type": "code",
   "execution_count": 6,
   "metadata": {},
   "outputs": [
    {
     "name": "stdout",
     "output_type": "stream",
     "text": [
      "<class 'pandas.core.frame.DataFrame'>\n",
      "RangeIndex: 9534417 entries, 0 to 9534416\n",
      "Data columns (total 14 columns):\n",
      " #   Column             Dtype  \n",
      "---  ------             -----  \n",
      " 0   Unnamed: 0         int64  \n",
      " 1   ItinID             int64  \n",
      " 2   MktID              int64  \n",
      " 3   MktCoupons         int64  \n",
      " 4   Quarter            int64  \n",
      " 5   Origin             object \n",
      " 6   OriginWac          int64  \n",
      " 7   Dest               object \n",
      " 8   DestWac            int64  \n",
      " 9   Miles              float64\n",
      " 10  ContiguousUSA      int64  \n",
      " 11  NumTicketsOrdered  float64\n",
      " 12  AirlineCompany     object \n",
      " 13  PricePerTicket     float64\n",
      "dtypes: float64(3), int64(8), object(3)\n",
      "memory usage: 1018.4+ MB\n"
     ]
    }
   ],
   "source": [
    "import pandas as pd\n",
    "df = pd.read_csv(\"Cleaned_2018_Flights.csv\")\n",
    "df.info()"
   ]
  },
  {
   "cell_type": "code",
   "execution_count": 28,
   "metadata": {},
   "outputs": [
    {
     "data": {
      "text/html": [
       "<div>\n",
       "<style scoped>\n",
       "    .dataframe tbody tr th:only-of-type {\n",
       "        vertical-align: middle;\n",
       "    }\n",
       "\n",
       "    .dataframe tbody tr th {\n",
       "        vertical-align: top;\n",
       "    }\n",
       "\n",
       "    .dataframe thead th {\n",
       "        text-align: right;\n",
       "    }\n",
       "</style>\n",
       "<table border=\"1\" class=\"dataframe\">\n",
       "  <thead>\n",
       "    <tr style=\"text-align: right;\">\n",
       "      <th></th>\n",
       "      <th>Origin</th>\n",
       "    </tr>\n",
       "  </thead>\n",
       "  <tbody>\n",
       "    <tr>\n",
       "      <th>LAX</th>\n",
       "      <td>415297</td>\n",
       "    </tr>\n",
       "    <tr>\n",
       "      <th>ATL</th>\n",
       "      <td>412245</td>\n",
       "    </tr>\n",
       "    <tr>\n",
       "      <th>DEN</th>\n",
       "      <td>372116</td>\n",
       "    </tr>\n",
       "    <tr>\n",
       "      <th>ORD</th>\n",
       "      <td>333387</td>\n",
       "    </tr>\n",
       "    <tr>\n",
       "      <th>SFO</th>\n",
       "      <td>308119</td>\n",
       "    </tr>\n",
       "    <tr>\n",
       "      <th>...</th>\n",
       "      <td>...</td>\n",
       "    </tr>\n",
       "    <tr>\n",
       "      <th>GPT</th>\n",
       "      <td>1137</td>\n",
       "    </tr>\n",
       "    <tr>\n",
       "      <th>ILM</th>\n",
       "      <td>1133</td>\n",
       "    </tr>\n",
       "    <tr>\n",
       "      <th>HDN</th>\n",
       "      <td>1111</td>\n",
       "    </tr>\n",
       "    <tr>\n",
       "      <th>GRI</th>\n",
       "      <td>1089</td>\n",
       "    </tr>\n",
       "    <tr>\n",
       "      <th>BRW</th>\n",
       "      <td>1005</td>\n",
       "    </tr>\n",
       "  </tbody>\n",
       "</table>\n",
       "<p>188 rows × 1 columns</p>\n",
       "</div>"
      ],
      "text/plain": [
       "     Origin\n",
       "LAX  415297\n",
       "ATL  412245\n",
       "DEN  372116\n",
       "ORD  333387\n",
       "SFO  308119\n",
       "..      ...\n",
       "GPT    1137\n",
       "ILM    1133\n",
       "HDN    1111\n",
       "GRI    1089\n",
       "BRW    1005\n",
       "\n",
       "[188 rows x 1 columns]"
      ]
     },
     "execution_count": 28,
     "metadata": {},
     "output_type": "execute_result"
    }
   ],
   "source": [
    "df_count =pd.DataFrame( df.Origin.value_counts())\n",
    "df_count.loc[df_count.Origin > 1000]\n"
   ]
  },
  {
   "cell_type": "code",
   "execution_count": 22,
   "metadata": {},
   "outputs": [
    {
     "ename": "AttributeError",
     "evalue": "'Series' object has no attribute 'iterrows'",
     "output_type": "error",
     "traceback": [
      "\u001b[1;31m---------------------------------------------------------------------------\u001b[0m",
      "\u001b[1;31mAttributeError\u001b[0m                            Traceback (most recent call last)",
      "\u001b[1;32mc:\\Users\\jurko\\OneDrive - Universidad Pontificia Comillas\\Documentos\\iMAT\\1_2022-2023\\Algoritmos y Estructuras de datos\\Proyecto-final-algoritmos\\pruebas.ipynb Celda 7\u001b[0m in \u001b[0;36m<cell line: 1>\u001b[1;34m()\u001b[0m\n\u001b[1;32m----> <a href='vscode-notebook-cell:/c%3A/Users/jurko/OneDrive%20-%20Universidad%20Pontificia%20Comillas/Documentos/iMAT/1_2022-2023/Algoritmos%20y%20Estructuras%20de%20datos/Proyecto-final-algoritmos/pruebas.ipynb#X22sZmlsZQ%3D%3D?line=0'>1</a>\u001b[0m \u001b[39mfor\u001b[39;00m row \u001b[39min\u001b[39;00m df_count\u001b[39m.\u001b[39;49miterrows():\n\u001b[0;32m      <a href='vscode-notebook-cell:/c%3A/Users/jurko/OneDrive%20-%20Universidad%20Pontificia%20Comillas/Documentos/iMAT/1_2022-2023/Algoritmos%20y%20Estructuras%20de%20datos/Proyecto-final-algoritmos/pruebas.ipynb#X22sZmlsZQ%3D%3D?line=1'>2</a>\u001b[0m     \u001b[39mprint\u001b[39m(row)\n",
      "File \u001b[1;32mc:\\Users\\jurko\\AppData\\Local\\Programs\\Python\\Python310\\lib\\site-packages\\pandas\\core\\generic.py:5575\u001b[0m, in \u001b[0;36mNDFrame.__getattr__\u001b[1;34m(self, name)\u001b[0m\n\u001b[0;32m   5568\u001b[0m \u001b[39mif\u001b[39;00m (\n\u001b[0;32m   5569\u001b[0m     name \u001b[39mnot\u001b[39;00m \u001b[39min\u001b[39;00m \u001b[39mself\u001b[39m\u001b[39m.\u001b[39m_internal_names_set\n\u001b[0;32m   5570\u001b[0m     \u001b[39mand\u001b[39;00m name \u001b[39mnot\u001b[39;00m \u001b[39min\u001b[39;00m \u001b[39mself\u001b[39m\u001b[39m.\u001b[39m_metadata\n\u001b[0;32m   5571\u001b[0m     \u001b[39mand\u001b[39;00m name \u001b[39mnot\u001b[39;00m \u001b[39min\u001b[39;00m \u001b[39mself\u001b[39m\u001b[39m.\u001b[39m_accessors\n\u001b[0;32m   5572\u001b[0m     \u001b[39mand\u001b[39;00m \u001b[39mself\u001b[39m\u001b[39m.\u001b[39m_info_axis\u001b[39m.\u001b[39m_can_hold_identifiers_and_holds_name(name)\n\u001b[0;32m   5573\u001b[0m ):\n\u001b[0;32m   5574\u001b[0m     \u001b[39mreturn\u001b[39;00m \u001b[39mself\u001b[39m[name]\n\u001b[1;32m-> 5575\u001b[0m \u001b[39mreturn\u001b[39;00m \u001b[39mobject\u001b[39;49m\u001b[39m.\u001b[39;49m\u001b[39m__getattribute__\u001b[39;49m(\u001b[39mself\u001b[39;49m, name)\n",
      "\u001b[1;31mAttributeError\u001b[0m: 'Series' object has no attribute 'iterrows'"
     ]
    }
   ],
   "source": [
    "for row in df_count.iterrows():\n",
    "    print(row)"
   ]
  }
 ],
 "metadata": {
  "kernelspec": {
   "display_name": "base",
   "language": "python",
   "name": "python3"
  },
  "language_info": {
   "codemirror_mode": {
    "name": "ipython",
    "version": 3
   },
   "file_extension": ".py",
   "mimetype": "text/x-python",
   "name": "python",
   "nbconvert_exporter": "python",
   "pygments_lexer": "ipython3",
   "version": "3.9.13"
  },
  "orig_nbformat": 4
 },
 "nbformat": 4,
 "nbformat_minor": 2
}
