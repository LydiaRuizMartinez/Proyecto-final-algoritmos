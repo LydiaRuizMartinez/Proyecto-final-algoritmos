{
 "cells": [
  {
   "cell_type": "code",
   "execution_count": 1,
   "metadata": {},
   "outputs": [
    {
     "data": {
      "text/plain": [
       "<Arbol.Arbol at 0x223d8559360>"
      ]
     },
     "execution_count": 1,
     "metadata": {},
     "output_type": "execute_result"
    }
   ],
   "source": [
    "from Arbol import Arbol\n",
    "from leer_datos import leer_datos\n",
    "arbol = Arbol([\"origen\", \"destino\",\"trimestre\", \"compania\"])\n",
    "leer_datos(\"Cleaned_2018_Flights.csv\", arbol)"
   ]
  },
  {
   "cell_type": "code",
   "execution_count": 2,
   "metadata": {},
   "outputs": [
    {
     "name": "stdout",
     "output_type": "stream",
     "text": [
      "->PHL->LAX->1->AA: 414 vuelos\n",
      "->PHL->LGA->1->AA: 14 vuelos\n",
      "->PHL->BOS->1->AA: 5 vuelos\n",
      "->PHL->RDU->1->AA: 1 vuelos\n",
      "->PHL->MCI->1->AA: 145 vuelos\n",
      "->LAX->ORD->1->AA: 1 vuelos\n",
      "->LAX->PHL->1->AA: 324 vuelos\n",
      "->SAN->JFK->1->AA: 1 vuelos\n",
      "->SFO->PHL->1->AA: 29 vuelos\n",
      "->SFO->JFK->1->AA: 2 vuelos\n",
      "->AUS->PHL->1->AA: 1 vuelos\n",
      "->BOS->PHL->1->AA: 3 vuelos\n",
      "->MIA->PHL->1->AA: 1 vuelos\n",
      "->ORD->PHL->1->AA: 2 vuelos\n",
      "->LGA->PHL->1->AA: 2 vuelos\n",
      "->CLT->TPA->1->AA: 1 vuelos\n",
      "->TPA->PHL->1->AA: 1 vuelos\n",
      "->DFW->PHL->1->AA: 2 vuelos\n",
      "->LAS->PHL->1->AA: 1 vuelos\n",
      "->MCI->PHL->1->AA: 50 vuelos\n"
     ]
    }
   ],
   "source": [
    "arbol.mostrar()"
   ]
  },
  {
   "cell_type": "code",
   "execution_count": 3,
   "metadata": {},
   "outputs": [
    {
     "data": {
      "text/plain": [
       "414"
      ]
     },
     "execution_count": 3,
     "metadata": {},
     "output_type": "execute_result"
    }
   ],
   "source": [
    "len(arbol.buscar([\"PHL\",\"LAX\",1,\"AA\"]))"
   ]
  },
  {
   "cell_type": "code",
   "execution_count": 4,
   "metadata": {},
   "outputs": [
    {
     "data": {
      "text/plain": [
       "[Vuelo(origen = SFO, destino = JFK, trimestre = 1, compañía = AA, precio = 214.64, km = 4163.46),\n",
       " Vuelo(origen = SFO, destino = JFK, trimestre = 1, compañía = AA, precio = 218.05, km = 4163.46)]"
      ]
     },
     "execution_count": 4,
     "metadata": {},
     "output_type": "execute_result"
    }
   ],
   "source": [
    "from quicksort import quickSort\n",
    "quickSort(arbol.buscar([\"SFO\",\"JFK\",1,\"AA\"]))\n"
   ]
  }
 ],
 "metadata": {
  "kernelspec": {
   "display_name": "base",
   "language": "python",
   "name": "python3"
  },
  "language_info": {
   "codemirror_mode": {
    "name": "ipython",
    "version": 3
   },
   "file_extension": ".py",
   "mimetype": "text/x-python",
   "name": "python",
   "nbconvert_exporter": "python",
   "pygments_lexer": "ipython3",
   "version": "3.9.13"
  },
  "orig_nbformat": 4
 },
 "nbformat": 4,
 "nbformat_minor": 2
}
